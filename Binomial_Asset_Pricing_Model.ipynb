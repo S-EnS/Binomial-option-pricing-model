{
  "nbformat": 4,
  "nbformat_minor": 0,
  "metadata": {
    "colab": {
      "provenance": [],
      "authorship_tag": "ABX9TyOpUuRDzBvfyBCmslh4V2F9",
      "include_colab_link": true
    },
    "kernelspec": {
      "name": "python3",
      "display_name": "Python 3"
    },
    "language_info": {
      "name": "python"
    }
  },
  "cells": [
    {
      "cell_type": "markdown",
      "metadata": {
        "id": "view-in-github",
        "colab_type": "text"
      },
      "source": [
        "<a href=\"https://colab.research.google.com/github/S-EnS/Binomial-option-pricing-model/blob/main/Binomial_Asset_Pricing_Model.ipynb\" target=\"_parent\"><img src=\"https://colab.research.google.com/assets/colab-badge.svg\" alt=\"Open In Colab\"/></a>"
      ]
    },
    {
      "cell_type": "code",
      "execution_count": 19,
      "metadata": {
        "id": "DgtBTa57f5Yl"
      },
      "outputs": [],
      "source": [
        "import numpy as np"
      ]
    },
    {
      "cell_type": "code",
      "source": [
        "#inital parameters\n",
        "S0 = 100 #initial stock price\n",
        "K = 100 # strike price\n",
        "T = 1 # time to maturity in years\n",
        "r = 0.06 # annual risk-free rate\n",
        "N = 3 # number of time steps\n",
        "u = 1.1 # up-factor in binomial models\n",
        "d = 1/u # ensure recombining tree\n",
        "opttype = 'C' # option type 'C' or 'P'"
      ],
      "metadata": {
        "id": "A4vw8wXpgDAz"
      },
      "execution_count": 20,
      "outputs": []
    },
    {
      "cell_type": "code",
      "source": [
        "#slow tree model"
      ],
      "metadata": {
        "id": "wiJFOfmDmgRX"
      },
      "execution_count": 21,
      "outputs": []
    },
    {
      "cell_type": "code",
      "source": [
        "\n",
        "def binomial_tree_slow(K,T,S0,r,N,u,d,opttype='C'):\n",
        "  #pre compute constants\n",
        "  dt = T/N\n",
        "  q = (np.exp(r*dt)- d )/ (u-d)\n",
        "  disc = (np.exp(r*dt))\n",
        "\n",
        "  #initialise asset prices at maturity - Time step N\n",
        "  S = np.zeros(N+1)\n",
        "  S[0] = S0*d**N\n",
        "  for j in range (1,N+1):\n",
        "    S[j] = S[j - 1]*u/d\n",
        "\n",
        "  #initialise option values at maturity\n",
        "  C = np.zeros(N+1)\n",
        "  for j in range (0,N+1):\n",
        "    C[j] = max(0, S[j]-K)\n",
        "\n",
        "#step backwards through tree\n",
        "  for i in np.arange(N,0,-1):\n",
        "    for j in range (0,i):\n",
        "     C[j] = disc * ( q*C[j+1] + (1-q) * C[j])\n",
        "\n",
        "  return C[0]\n",
        "\n",
        "binomial_tree_slow(K,T,S0,r,N,u,d,opttype='C')\n"
      ],
      "metadata": {
        "id": "pA43U-_Yg_fK"
      },
      "execution_count": null,
      "outputs": []
    },
    {
      "cell_type": "code",
      "source": [
        "#fast tree model"
      ],
      "metadata": {
        "id": "_3ddcDMZmktz"
      },
      "execution_count": 23,
      "outputs": []
    },
    {
      "cell_type": "code",
      "source": [
        "\n",
        "def binomial_tree_fast(K,T,S0,r,N,u,d,opttype='C'):\n",
        "    #precompute constants\n",
        "    dt = T/N\n",
        "    q = (np.exp(r*dt) - d) / (u-d)\n",
        "    disc = np.exp(-r*dt)\n",
        "\n",
        "    # initialise asset prices at maturity - Time step N\n",
        "    C = S0 * d ** (np.arange(N,-1,-1)) * u ** (np.arange(0,N+1,1))\n",
        "\n",
        "    # initialise option values at maturity\n",
        "    C = np.maximum( C - K , np.zeros(N+1) )\n",
        "\n",
        "    # step backwards through tree\n",
        "    for i in np.arange(N,0,-1):\n",
        "        C = disc * ( q * C[1:i+1] + (1-q) * C[0:i] )\n",
        "\n",
        "    return C[0]\n",
        "\n",
        "binomial_tree_fast(K,T,S0,r,N,u,d,opttype='C')"
      ],
      "metadata": {
        "id": "fres2g9tmneT"
      },
      "execution_count": null,
      "outputs": []
    },
    {
      "cell_type": "code",
      "source": [
        "for N in [3,50, 100, 1000, 5000]:\n",
        "    binomial_tree_slow(K,T,S0,r,N,u,d,opttype='C')\n",
        "    binomial_tree_fast(K,T,S0,r,N,u,d,opttype='C')"
      ],
      "metadata": {
        "id": "Y7Tp1tkYohbS"
      },
      "execution_count": 31,
      "outputs": []
    }
  ]
}